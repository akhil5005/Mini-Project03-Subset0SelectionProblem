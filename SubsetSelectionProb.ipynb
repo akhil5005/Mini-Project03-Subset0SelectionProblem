{
  "nbformat": 4,
  "nbformat_minor": 0,
  "metadata": {
    "colab": {
      "provenance": [],
      "authorship_tag": "ABX9TyM63uWsbyDzC3iJxZlMUBNz",
      "include_colab_link": true
    },
    "kernelspec": {
      "name": "python3",
      "display_name": "Python 3"
    },
    "language_info": {
      "name": "python"
    }
  },
  "cells": [
    {
      "cell_type": "markdown",
      "metadata": {
        "id": "view-in-github",
        "colab_type": "text"
      },
      "source": [
        "<a href=\"https://colab.research.google.com/github/akhil5005/Mini-Project03-Subset0SelectionProblem/blob/main/SubsetSelectionProb.ipynb\" target=\"_parent\"><img src=\"https://colab.research.google.com/assets/colab-badge.svg\" alt=\"Open In Colab\"/></a>"
      ]
    },
    {
      "cell_type": "markdown",
      "source": [],
      "metadata": {
        "id": "ONEYgrQ7IbMI"
      }
    },
    {
      "cell_type": "markdown",
      "source": [
        "1. Problem Statement:\n",
        "   Find all the subsets from a set of numbers whose sum is zero.\n",
        "\n",
        "Constraint: Subset size must be 5\n",
        "Set={-12, -3, -6, 7, 2, -2, 6, 3, 9, -7, -5, -8, 1, 11, -9, -4}\n",
        "\n"
      ],
      "metadata": {
        "id": "sZzN45K1IgEa"
      }
    },
    {
      "cell_type": "code",
      "execution_count": 5,
      "metadata": {
        "id": "0Yg0SBFTDVV1",
        "colab": {
          "base_uri": "https://localhost:8080/"
        },
        "outputId": "6072ec02-f9f8-47b8-dd95-8952e5116ac6"
      },
      "outputs": [
        {
          "output_type": "stream",
          "name": "stdout",
          "text": [
            "(-9, -3, 2, 3, 7)\n",
            "(-12, -6, 1, 6, 11)\n",
            "(-9, -8, -3, 9, 11)\n",
            "(-8, -7, -3, 7, 11)\n",
            "(-12, -5, 1, 7, 9)\n",
            "(-9, -3, 1, 2, 9)\n",
            "(-7, -5, -2, 3, 11)\n",
            "(-9, -4, -3, 7, 9)\n",
            "(-12, 1, 2, 3, 6)\n",
            "(-12, -3, 1, 3, 11)\n",
            "(-7, -2, 1, 2, 6)\n",
            "(-8, -7, 1, 3, 11)\n",
            "(-8, -3, 1, 3, 7)\n",
            "(-8, -6, -3, 6, 11)\n",
            "(-8, -2, 1, 3, 6)\n",
            "(-8, -5, -2, 6, 9)\n",
            "(-12, -2, 2, 3, 9)\n",
            "(-9, -7, -2, 7, 11)\n",
            "(-8, -4, 1, 2, 9)\n",
            "(-12, -2, 1, 2, 11)\n",
            "(-6, -4, -3, 2, 11)\n",
            "(-5, -3, -2, 1, 9)\n",
            "(-9, -5, -2, 7, 9)\n",
            "(-7, -5, 1, 2, 9)\n",
            "(-9, -5, 1, 6, 7)\n",
            "(-9, -5, -3, 6, 11)\n",
            "(-9, -3, -2, 3, 11)\n",
            "(-6, -5, -2, 6, 7)\n",
            "(-12, -4, -2, 7, 11)\n",
            "(-8, -6, 2, 3, 9)\n",
            "\n",
            "Total Sets:  30 \n",
            "\n"
          ]
        }
      ],
      "source": [
        "import random as r\n",
        "\n",
        "Set = set([-12, -3, -6, 7, 2, -2, 6, 3, 9, -7, -5, -8, 1, 11, -9, -4])\n",
        "SetSize = 5\n",
        "ResultList = set()\n",
        "Iterations = 1000\n",
        "\n",
        "for i in range(Iterations):\n",
        "  chromosome = r.sample(list(Set),SetSize)\n",
        "  chromosome.sort()\n",
        "  if(sum(chromosome) == 0):\n",
        "    ResultList.add(tuple(chromosome))\n",
        "\n",
        "for r in ResultList:\n",
        "  print(r)\n",
        "\n",
        "print(\"\\nTotal Sets: \",len(ResultList),\"\\n\")\n"
      ]
    },
    {
      "cell_type": "markdown",
      "source": [
        "2. Problem Statement:\n",
        "Find all the subsets from a set of numbers whose sum is zero.\n",
        "\n",
        "Constraint: Subset size must be 3 to 6 only\n",
        "Set={-12, -3, -6, 7, 2, -2, 6, 3, 9, -7, -5, -8, 1, 11, -9, -4}"
      ],
      "metadata": {
        "id": "-ZGUr3n-JLWl"
      }
    },
    {
      "cell_type": "code",
      "source": [
        "import random as r\n",
        "\n",
        "Set = set([-12, -3, -6, 7, 2, -2, 6, 3, 9, -7, -5, -8, 1, 11, -9, -4])\n",
        "SetSizeLB = 3\n",
        "SetSizeUB = 6\n",
        "ResultList = set()\n",
        "Iterations = 1000\n",
        "\n",
        "for i in range(Iterations):\n",
        "  SetSize = r.randint(SetSizeLB,SetSizeUB)\n",
        "  chromosome = r.sample(list(Set),SetSize)\n",
        "  chromosome.sort()\n",
        "  if(sum(chromosome) == 0):\n",
        "    ResultList.add(tuple(chromosome))\n",
        "\n",
        "for r in ResultList:\n",
        "  print(r)\n",
        "\n",
        "print(\"\\nTotal Sets: \",len(ResultList),\"\\n\")"
      ],
      "metadata": {
        "colab": {
          "base_uri": "https://localhost:8080/"
        },
        "id": "UqWVGCfRIzrT",
        "outputId": "ca7a39ad-f84e-41be-9b04-b70a9b84afdb"
      },
      "execution_count": 7,
      "outputs": [
        {
          "output_type": "stream",
          "name": "stdout",
          "text": [
            "(-7, -4, -2, 6, 7)\n",
            "(-8, -3, 2, 9)\n",
            "(-9, 2, 7)\n",
            "(-12, -7, -3, 2, 9, 11)\n",
            "(-5, 2, 3)\n",
            "(-12, 3, 9)\n",
            "(-9, -5, 3, 11)\n",
            "(-5, -4, 2, 7)\n",
            "(-12, 1, 11)\n",
            "(-9, -3, 1, 11)\n",
            "(-8, 1, 7)\n",
            "(-8, 2, 6)\n",
            "(-7, -4, -2, 2, 11)\n",
            "(-6, -3, 9)\n",
            "(-4, -2, 6)\n",
            "(-12, -4, -3, 1, 7, 11)\n",
            "(-8, -2, 1, 2, 7)\n",
            "(-12, -8, -3, 3, 9, 11)\n",
            "(-7, -6, 2, 11)\n",
            "(-12, -9, 3, 7, 11)\n",
            "(-4, -3, 7)\n",
            "(-12, -8, -2, 6, 7, 9)\n",
            "(-8, -7, -3, -2, 9, 11)\n",
            "(-12, -8, 9, 11)\n",
            "(-5, -4, 9)\n",
            "\n",
            "Total Sets:  25 \n",
            "\n"
          ]
        }
      ]
    }
  ]
}